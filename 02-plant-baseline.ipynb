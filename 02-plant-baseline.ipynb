{
 "cells": [
  {
   "cell_type": "code",
   "execution_count": 1,
   "metadata": {},
   "outputs": [],
   "source": [
    "from fastai.vision.all import *\n",
    "from self_supervised.layers import *"
   ]
  },
  {
   "cell_type": "code",
   "execution_count": 2,
   "metadata": {},
   "outputs": [],
   "source": [
    "datapath = Path(\"plant-pathology-2021-fgvc8/\")"
   ]
  },
  {
   "cell_type": "code",
   "execution_count": 3,
   "metadata": {},
   "outputs": [
    {
     "data": {
      "text/plain": [
       "(#5) [Path('plant-pathology-2021-fgvc8/train.csv'),Path('plant-pathology-2021-fgvc8/test_images'),Path('plant-pathology-2021-fgvc8/train_images_512'),Path('plant-pathology-2021-fgvc8/train_images'),Path('plant-pathology-2021-fgvc8/sample_submission.csv')]"
      ]
     },
     "execution_count": 3,
     "metadata": {},
     "output_type": "execute_result"
    }
   ],
   "source": [
    "datapath.ls()"
   ]
  },
  {
   "cell_type": "code",
   "execution_count": 4,
   "metadata": {},
   "outputs": [],
   "source": [
    "train_df = pd.read_csv(datapath/'train.csv')"
   ]
  },
  {
   "cell_type": "code",
   "execution_count": 5,
   "metadata": {},
   "outputs": [],
   "source": [
    "label_dist = train_df['labels'].value_counts()"
   ]
  },
  {
   "cell_type": "code",
   "execution_count": 6,
   "metadata": {},
   "outputs": [
    {
     "data": {
      "text/plain": [
       "scab                               4826\n",
       "healthy                            4624\n",
       "frog_eye_leaf_spot                 3181\n",
       "cider_apple_rust                   1860\n",
       "complex                            1602\n",
       "powdery_mildew                     1184\n",
       "scab frog_eye_leaf_spot             686\n",
       "scab frog_eye_leaf_spot complex     200\n",
       "frog_eye_leaf_spot complex          165\n",
       "rust frog_eye_leaf_spot             120\n",
       "rust complex                         97\n",
       "powdery_mildew complex               87\n",
       "Name: labels, dtype: int64"
      ]
     },
     "execution_count": 6,
     "metadata": {},
     "output_type": "execute_result"
    }
   ],
   "source": [
    "label_dist"
   ]
  },
  {
   "cell_type": "code",
   "execution_count": 7,
   "metadata": {},
   "outputs": [],
   "source": [
    "train_df['num_disease'] = train_df['labels'].apply(lambda o: len(o.split()))"
   ]
  },
  {
   "cell_type": "code",
   "execution_count": 8,
   "metadata": {},
   "outputs": [
    {
     "data": {
      "text/plain": [
       "scab                  4826\n",
       "healthy               4624\n",
       "frog_eye_leaf_spot    3181\n",
       "cider_apple_rust      1860\n",
       "complex               1602\n",
       "powdery_mildew        1184\n",
       "Name: labels, dtype: int64"
      ]
     },
     "execution_count": 8,
     "metadata": {},
     "output_type": "execute_result"
    }
   ],
   "source": [
    "train_df.query(\"num_disease == 1\")['labels'].value_counts()"
   ]
  },
  {
   "cell_type": "code",
   "execution_count": 9,
   "metadata": {},
   "outputs": [
    {
     "data": {
      "text/plain": [
       "scab frog_eye_leaf_spot            686\n",
       "scab frog_eye_leaf_spot complex    200\n",
       "frog_eye_leaf_spot complex         165\n",
       "rust frog_eye_leaf_spot            120\n",
       "rust complex                        97\n",
       "powdery_mildew complex              87\n",
       "Name: labels, dtype: int64"
      ]
     },
     "execution_count": 9,
     "metadata": {},
     "output_type": "execute_result"
    }
   ],
   "source": [
    "train_df.query(\"num_disease > 1\")['labels'].value_counts()"
   ]
  },
  {
   "cell_type": "code",
   "execution_count": 10,
   "metadata": {},
   "outputs": [],
   "source": [
    "# def read_img(im): return PILImage.create(datapath/f'train_images/{im}')\n",
    "\n",
    "# img = read_img(train_df['image'][0])\n",
    "\n",
    "# img.shape\n",
    "\n",
    "# def resize_img(img, sz=512):\n",
    "#     targ_sz = resize_to(img, use_min=True, targ_sz=sz)\n",
    "#     return img.resize(targ_sz, resample=Image.BILINEAR).convert(\"RGB\")\n",
    "\n",
    "# resizepath = datapath/'train_images_512'\n",
    "\n",
    "# resizepath.mkdir()\n",
    "\n",
    "# fns = train_df['image'].values; fns[:5]\n",
    "\n",
    "# def read_resize_save(fn):\n",
    "#     img = read_img(fn)\n",
    "#     img = resize_img(img)\n",
    "#     img.save(resizepath/f'{fn}')\n",
    "\n",
    "# # parallel(read_resize_save, fns, progress=True)"
   ]
  },
  {
   "cell_type": "markdown",
   "metadata": {},
   "source": [
    "### Data"
   ]
  },
  {
   "cell_type": "code",
   "execution_count": 11,
   "metadata": {},
   "outputs": [],
   "source": [
    "files = train_df['image'].values\n",
    "fn2label = dict(zip(train_df['image'], train_df['labels'].apply(lambda o: o.split())))"
   ]
  },
  {
   "cell_type": "code",
   "execution_count": 12,
   "metadata": {},
   "outputs": [],
   "source": [
    "def read_img(im): return PILImage.create(datapath/f'train_images_512/{im}')\n",
    "def read_label(fn): return fn2label[fn]"
   ]
  },
  {
   "cell_type": "code",
   "execution_count": 13,
   "metadata": {},
   "outputs": [],
   "source": [
    "def get_dls(files, bs=32, size=448):\n",
    "\n",
    "    tfms = [[read_img, ToTensor, RandomResizedCrop(size, min_scale=.7)], \n",
    "            [read_label, MultiCategorize(), OneHotEncode]]\n",
    "\n",
    "    dsets = Datasets(files, tfms=tfms, splits=RandomSplitter(valid_pct=0.1, seed=0.2)(files))\n",
    "\n",
    "    batch_augs = aug_transforms()\n",
    "\n",
    "    batch_tfms = [IntToFloatTensor] + batch_augs\n",
    "    dls = dsets.dataloaders(bs=bs, after_batch=batch_tfms)\n",
    "    return dls"
   ]
  },
  {
   "cell_type": "code",
   "execution_count": 1,
   "metadata": {},
   "outputs": [],
   "source": [
    "import wandb\n",
    "from fastai.callback.wandb import WandbCallback"
   ]
  },
  {
   "cell_type": "code",
   "execution_count": 14,
   "metadata": {},
   "outputs": [],
   "source": [
    "# dls.show_batch()"
   ]
  },
  {
   "cell_type": "code",
   "execution_count": 15,
   "metadata": {},
   "outputs": [],
   "source": [
    "# tf_efficientnet_b4_ns - lr 2e-2, size 448, bs 32\n",
    "# resnet101d - lr 2e-2, size 448, bs 32\n",
    "# vit_base_patch16_384 - lr 1e-3 size 384, bs 32 (checkpoint 2)\n",
    "# vit_base_resnet50_384 - lr 1e-3 size 384 bs 24 (checkpoint 12)"
   ]
  },
  {
   "cell_type": "code",
   "execution_count": 16,
   "metadata": {},
   "outputs": [],
   "source": [
    "# #export \n",
    "# from torch.utils.checkpoint import checkpoint_sequential\n",
    "    \n",
    "# class CheckpointVisionTransformer(Module):\n",
    "#     def __init__(self, vit_model, checkpoint_nchunks=2):\n",
    "#         self.checkpoint_nchunks = checkpoint_nchunks\n",
    "#         self.vit_model = vit_model\n",
    "    \n",
    "#     def forward_features(self, x):\n",
    "#         B = x.shape[0]\n",
    "#         x = self.vit_model.patch_embed(x)\n",
    "\n",
    "#         cls_tokens = self.vit_model.cls_token.expand(B, -1, -1)  # stole cls_tokens impl from Phil Wang, thanks\n",
    "#         x = torch.cat((cls_tokens, x), dim=1)\n",
    "#         x = x + self.vit_model.pos_embed\n",
    "#         x = self.vit_model.pos_drop(x)\n",
    "#         x = checkpoint_sequential(self.vit_model.blocks, self.checkpoint_nchunks, x)\n",
    "#         x = self.vit_model.norm(x)[:, 0]\n",
    "#         x = self.vit_model.pre_logits(x)\n",
    "#         return x\n",
    "\n",
    "#     def forward(self, x):\n",
    "#         x = self.forward_features(x)\n",
    "#         x = self.vit_model.head(x)\n",
    "#         return x"
   ]
  },
  {
   "cell_type": "code",
   "execution_count": 17,
   "metadata": {},
   "outputs": [],
   "source": [
    "@patch\n",
    "def name(self:F1ScoreMulti): return \"f1_multi_macro\"\n",
    "f1macro = F1ScoreMulti(average='macro')\n",
    "@patch\n",
    "def name(self:F1ScoreMulti): return \"f1_multi_micro\"\n",
    "f1micro = F1ScoreMulti(average='micro')"
   ]
  },
  {
   "cell_type": "code",
   "execution_count": 18,
   "metadata": {},
   "outputs": [],
   "source": [
    "arch = \"vit_base_resnet50_384\"\n",
    "bs, size, lr, epochs = 24, 384, 2e-2, 30\n",
    "dls = get_dls(files[:5000],bs,size)"
   ]
  },
  {
   "cell_type": "code",
   "execution_count": 21,
   "metadata": {},
   "outputs": [],
   "source": [
    "WANDB = False"
   ]
  },
  {
   "cell_type": "code",
   "execution_count": null,
   "metadata": {},
   "outputs": [],
   "source": [
    "if WANDB:\n",
    "    xtra_config = {\"Arch\":arch, \"Size\":size, \"lr\": lr}\n",
    "    wandb.init(project=\"plant-pathology-2021\", config=xtra_config)"
   ]
  },
  {
   "cell_type": "code",
   "execution_count": 19,
   "metadata": {},
   "outputs": [
    {
     "name": "stderr",
     "output_type": "stream",
     "text": [
      "/opt/conda/lib/python3.7/site-packages/torch/utils/checkpoint.py:25: UserWarning: None of the inputs have requires_grad=True. Gradients will be None\n",
      "  warnings.warn(\"None of the inputs have requires_grad=True. Gradients will be None\")\n"
     ]
    }
   ],
   "source": [
    "encoder = create_encoder(arch, pretrained=False, n_in=3)\n",
    "if arch == 'vit_base_patch16_384':  encoder = CheckpointVisionTransformer(encoder, 2)\n",
    "if arch == 'vit_base_resnet50_384': encoder = CheckpointVisionTransformer(encoder, 12)\n",
    "# if arch == 'tf_efficientnet_b4_ns': encoder = CheckpointEfficientNet(encoder, 2)\n",
    "with torch.no_grad(): nf = encoder(torch.randn(2,3,size,size)).size(-1)\n",
    "classifier = create_cls_module(nf, dls.c)\n",
    "model = nn.Sequential(encoder, classifier)\n",
    "cbs = [SaveModelCallback(every_epoch=True, fname=f\"{arch}_size{size}_lr{lr}_epochs{epochs}\")]\n",
    "if WANDB: cbs += [WandbCallback(log_preds=False,log_model=False)]\n",
    "learn = Learner(dls, model, opt_func=ranger, cbs=cbs\n",
    "                metrics=[f1macro, f1micro], loss_func=BCEWithLogitsLossFlat())\n",
    "learn.to_fp16();"
   ]
  },
  {
   "cell_type": "code",
   "execution_count": null,
   "metadata": {},
   "outputs": [],
   "source": [
    "learn.fit_flat_cos()"
   ]
  },
  {
   "cell_type": "code",
   "execution_count": 20,
   "metadata": {},
   "outputs": [
    {
     "data": {
      "text/html": [],
      "text/plain": [
       "<IPython.core.display.HTML object>"
      ]
     },
     "metadata": {},
     "output_type": "display_data"
    },
    {
     "data": {
      "text/plain": [
       "SuggestedLRs(lr_min=0.03630780577659607, lr_steep=0.3019951581954956)"
      ]
     },
     "execution_count": 20,
     "metadata": {},
     "output_type": "execute_result"
    },
    {
     "data": {
      "image/png": "[encoded data removed]",
      "text/plain": [
       "<Figure size 432x288 with 1 Axes>"
      ]
     },
     "metadata": {
      "needs_background": "light"
     },
     "output_type": "display_data"
    }
   ],
   "source": [
    "learn.lr_find()"
   ]
  },
  {
   "cell_type": "code",
   "execution_count": null,
   "metadata": {},
   "outputs": [],
   "source": [
    "if WANDB: wandb.finish()"
   ]
  },
  {
   "cell_type": "code",
   "execution_count": null,
   "metadata": {},
   "outputs": [],
   "source": []
  },
  {
   "cell_type": "code",
   "execution_count": null,
   "metadata": {},
   "outputs": [],
   "source": []
  },
  {
   "cell_type": "code",
   "execution_count": null,
   "metadata": {},
   "outputs": [],
   "source": []
  },
  {
   "cell_type": "code",
   "execution_count": null,
   "metadata": {},
   "outputs": [],
   "source": []
  }
 ],
 "metadata": {
  "kernelspec": {
   "display_name": "Python 3",
   "language": "python",
   "name": "python3"
  },
  "language_info": {
   "codemirror_mode": {
    "name": "ipython",
    "version": 3
   },
   "file_extension": ".py",
   "mimetype": "text/x-python",
   "name": "python",
   "nbconvert_exporter": "python",
   "pygments_lexer": "ipython3",
   "version": "3.7.6"
  }
 },
 "nbformat": 4,
 "nbformat_minor": 4
}
